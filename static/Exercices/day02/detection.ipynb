{
 "cells": [
  {
   "cell_type": "markdown",
   "metadata": {},
   "source": [
    "# Day 2, session 3: Detecting features in Hi-C maps\n",
    "\n",
    "In this session we will be looking at ways to automatically find regions with features of interest.\n",
    "This includes both supervised and unsupervised methods depending on the question."
   ]
  },
  {
   "cell_type": "markdown",
   "metadata": {},
   "source": [
    "## Differential contacts\n",
    "\n",
    "The classic approach, much like in differential gene expression analysis, is to look at regions with differing contact counts.\n",
    "There are some well established tools to do this type of analyses, like diffhic, fitHIC or FIND."
   ]
  },
  {
   "cell_type": "markdown",
   "metadata": {},
   "source": [
    "## Structural changes\n",
    "\n",
    "A more recent approach, implemented as CHESS (python package chess-hic) uses the notion of structural changes. This is also unsupervised, but attempts to find differential features as \"vignettes\" in the map.\n",
    "\n",
    "Those features can then be clustered by similarity so that the user can identify what they represent (loops, stripes, borders, ...)"
   ]
  },
  {
   "cell_type": "markdown",
   "metadata": {},
   "source": [
    "## Supervised pattern detection\n",
    "\n",
    "There are many methods to detect a specific type of pattern, especially loops and TADS.\n",
    "Most of those softwares are listed here: https://github.com/mdozmorov/HiC_tools#loop-callers\n"
   ]
  },
  {
   "cell_type": "markdown",
   "metadata": {},
   "source": [
    "## Chromosight\n",
    "\n",
    "Much like other tools, Chromosight can detect patterns in Hi-C contact maps. Instead of being limited to loops or TADS, it uses template matching (a computer vision algorithm) to detect various patterns.\n"
   ]
  },
  {
   "cell_type": "markdown",
   "metadata": {},
   "source": [
    "## Using external tracks\n",
    "\n",
    "Often instead of detecting those features solely from the Hi-C signal, we use external tracks such as ChIP-seq of proteins of interest to find the regions.\n",
    "\n",
    "This can be used for example to train machine learning methods such as [Peakachu](https://github.com/tariks/peakachu)\n",
    "\n",
    "There are also helpful tools like [coolpuppy](https://github.com/open2c/coolpuppy) which can do 2D aggregation of Hi-C maps using 1D signals.\n",
    "\n",
    "Chromosight can also quantify correlation scores with a given pattern at positions given by a BED file."
   ]
  },
  {
   "cell_type": "code",
   "execution_count": null,
   "metadata": {},
   "outputs": [],
   "source": []
  }
 ],
 "metadata": {
  "kernelspec": {
   "display_name": "Python 3",
   "language": "python",
   "name": "python3"
  },
  "language_info": {
   "codemirror_mode": {
    "name": "ipython",
    "version": 3
   },
   "file_extension": ".py",
   "mimetype": "text/x-python",
   "name": "python",
   "nbconvert_exporter": "python",
   "pygments_lexer": "ipython3",
   "version": "3.7.6"
  }
 },
 "nbformat": 4,
 "nbformat_minor": 4
}
