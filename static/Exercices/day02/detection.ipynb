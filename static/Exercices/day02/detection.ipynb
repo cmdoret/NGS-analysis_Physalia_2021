{
 "cells": [
  {
   "cell_type": "markdown",
   "metadata": {},
   "source": [
    "# Day 2, session 3: Detecting features in Hi-C maps\n",
    "\n",
    "In this session we will be looking at ways to automatically find regions with features of interest.\n",
    "This includes both supervised and unsupervised methods depending on the question."
   ]
  },
  {
   "cell_type": "markdown",
   "metadata": {},
   "source": [
    "## Unsupervised detection\n",
    "\n",
    "### Differential contacts\n",
    "The classic approach, much like in differential gene expression analysis, is to look at regions with differing contact counts.\n",
    "There are some well established tools to do this type of analyses, like diffhic or ACCOST."
   ]
  },
  {
   "cell_type": "markdown",
   "metadata": {},
   "source": [
    "### Structural changes\n",
    "\n",
    "A more recent approach, implemented as CHESS (python package chess-hic) uses the notion of structural changes. This is also unsupervised, but attempts to find differential features as \"vignettes\" in the map.\n",
    "\n",
    "Those features can then be clustered by similarity so that the user can identify what they represent (loops, stripes, borders, ...)\n",
    "More info about CHESS in the official docs: https://chess-hic.readthedocs.io/en/latest/?badge=latest"
   ]
  },
  {
   "cell_type": "markdown",
   "metadata": {},
   "source": [
    "## Supervised pattern detection\n",
    "\n",
    "There are many methods to detect a specific type of pattern, especially loops and TADS.\n",
    "Most of those softwares are listed here: https://github.com/mdozmorov/HiC_tools#loop-callers\n"
   ]
  },
  {
   "cell_type": "markdown",
   "metadata": {},
   "source": [
    "### Chromosight\n",
    "\n",
    "Much like other tools, Chromosight can detect patterns in Hi-C contact maps. Instead of being limited to loops or TADS, it uses template matching (a computer vision algorithm) to detect various patterns.\n",
    "\n",
    "More info about chromosight in the official docs: https://chromosight.readthedocs.io/en/latest/"
   ]
  },
  {
   "cell_type": "code",
   "execution_count": null,
   "metadata": {},
   "outputs": [],
   "source": [
    "%%bash\n",
    "\n",
    "chromosight detect --pattern=loops data/g1.cool data/g1_loops\n",
    "chromosight detect --pattern=borders data/g1.cool data/g1_borders\n",
    "chromosight detect --pattern=hairpins data/g1.cool data/g1_hairpins"
   ]
  },
  {
   "cell_type": "markdown",
   "metadata": {},
   "source": [
    "## Using external tracks\n",
    "\n",
    "Often instead of detecting those features solely from the Hi-C signal, we use external tracks such as ChIP-seq of proteins of interest to find the regions.\n",
    "\n",
    "This can be used for example to train machine learning methods such as [Peakachu](https://github.com/tariks/peakachu)\n",
    "\n",
    "There are also helpful tools like [coolpuppy](https://github.com/open2c/coolpuppy) which can do 2D aggregation of Hi-C maps using 1D signals.\n"
   ]
  },
  {
   "cell_type": "code",
   "execution_count": null,
   "metadata": {},
   "outputs": [],
   "source": [
    "%%bash\n",
    "coolpup.py g1.cool scer_cohesin_peaks.bed"
   ]
  },
  {
   "cell_type": "markdown",
   "metadata": {},
   "source": [
    "Chromosight can also quantify correlation scores with a given pattern at 2D positions given by a BED file."
   ]
  },
  {
   "cell_type": "code",
   "execution_count": null,
   "metadata": {},
   "outputs": [],
   "source": [
    "%%bash\n",
    "# We first need to get 1D positions into 2D combinations\n",
    "# E.g. to generate all combinations of positions spaced by more than 10kb but less than 50kb:\n",
    "\n",
    "MINDIST=10000\n",
    "MAXDIST=50000\n",
    "bedtools window -a input/scer_cohesin_peaks.bed \\\n",
    "                -b input/scer_cohesin_peaks.bed \\\n",
    "                -w $MAXDIST \\\n",
    "    | awk -vmd=$MINDIST '$1 == $4 && ($5 - $2) >= md {print}' \\\n",
    "    | sort -k1,1 -k2,2n -k4,4 -k5,5n \\\n",
    "    > input/scer_cohesin_peaks.bed2d"
   ]
  },
  {
   "cell_type": "code",
   "execution_count": null,
   "metadata": {},
   "outputs": [],
   "source": [
    "%%bash\n",
    "chromosight quantify --pattern=loops scer_cohesin_peaks.bed2d g1.cool data/cohesin_loops"
   ]
  }
 ],
 "metadata": {
  "kernelspec": {
   "display_name": "Python 3",
   "language": "python",
   "name": "python3"
  },
  "language_info": {
   "codemirror_mode": {
    "name": "ipython",
    "version": 3
   },
   "file_extension": ".py",
   "mimetype": "text/x-python",
   "name": "python",
   "nbconvert_exporter": "python",
   "pygments_lexer": "ipython3",
   "version": "3.7.5"
  }
 },
 "nbformat": 4,
 "nbformat_minor": 4
}
