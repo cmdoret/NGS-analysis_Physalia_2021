{
 "cells": [
  {
   "cell_type": "markdown",
   "metadata": {},
   "source": [
    "# Day 2, session 2: Extracting signal tracks from contact matrices\n",
    "\n",
    "IN this session we will extract biologically relevant signal tracks from contact matrices."
   ]
  },
  {
   "cell_type": "markdown",
   "metadata": {},
   "source": [
    "## Insulation score\n",
    "\n",
    "Insulation scores is used by many methods to measure a \"border score\". Insulation measures the depletion of contacts across a position, which is typically the case at TAD borders.\n",
    "\n",
    "To compute insulation, we slide a \"diamond\" along the diagonal, with the diamond corner touching the diagonal."
   ]
  },
  {
   "cell_type": "markdown",
   "metadata": {},
   "source": [
    "## Directionality index\n",
    "\n",
    "Directionality index measures the assymetry of contacts around a point. It was proposed by Nixon et al. 2012 and is often used to detect TADs."
   ]
  },
  {
   "cell_type": "markdown",
   "metadata": {},
   "source": [
    "## A/B Compartments\n",
    "\n",
    "A/B compartments reflect types of chromatin (euchromatin / heterochromatin) which are isolated from each other. These compartments form characterstic \"plaid\" like patterns on Hi-C maps. The compartments coordinates can be extracted using PCA on detrended intrachromosomal matrices."
   ]
  },
  {
   "cell_type": "markdown",
   "metadata": {},
   "source": [
    "## Saddle plots\n",
    "\n",
    "Saddle plots are a way to visually represent the intensity of the compartment signal."
   ]
  },
  {
   "cell_type": "code",
   "execution_count": null,
   "metadata": {},
   "outputs": [],
   "source": []
  }
 ],
 "metadata": {
  "kernelspec": {
   "display_name": "Python 3",
   "language": "python",
   "name": "python3"
  },
  "language_info": {
   "codemirror_mode": {
    "name": "ipython",
    "version": 3
   },
   "file_extension": ".py",
   "mimetype": "text/x-python",
   "name": "python",
   "nbconvert_exporter": "python",
   "pygments_lexer": "ipython3",
   "version": "3.7.7"
  }
 },
 "nbformat": 4,
 "nbformat_minor": 4
}
